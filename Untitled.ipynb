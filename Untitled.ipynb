{
 "cells": [
  {
   "cell_type": "code",
   "execution_count": 11,
   "id": "43cc26b1-ab00-45a7-a9de-60af8ed4791d",
   "metadata": {},
   "outputs": [],
   "source": [
    "def twoSum(nums, target):\n",
    "        for index,num in enumerate(nums[:-1]):\n",
    "            x = nums[index] + nums[index+1]\n",
    "            if (x==target):\n",
    "                print(x)\n",
    "                return [index,index+1]"
   ]
  },
  {
   "cell_type": "code",
   "execution_count": 12,
   "id": "8eb7508a-2099-44a5-ade0-35bf12e5cbeb",
   "metadata": {},
   "outputs": [],
   "source": [
    "nums = [3,2,3]\n",
    "target = 6\n",
    "twoSum(nums,target)"
   ]
  },
  {
   "cell_type": "code",
   "execution_count": null,
   "id": "d9882f57-d117-411e-8601-763c0fd1f107",
   "metadata": {},
   "outputs": [],
   "source": []
  }
 ],
 "metadata": {
  "kernelspec": {
   "display_name": "condaenv",
   "language": "python",
   "name": "condaenv"
  },
  "language_info": {
   "codemirror_mode": {
    "name": "ipython",
    "version": 3
   },
   "file_extension": ".py",
   "mimetype": "text/x-python",
   "name": "python",
   "nbconvert_exporter": "python",
   "pygments_lexer": "ipython3",
   "version": "3.11.7"
  }
 },
 "nbformat": 4,
 "nbformat_minor": 5
}
