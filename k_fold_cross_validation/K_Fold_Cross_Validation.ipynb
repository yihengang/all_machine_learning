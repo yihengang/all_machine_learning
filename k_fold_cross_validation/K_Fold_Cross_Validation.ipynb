{
 "cells": [
  {
   "cell_type": "code",
   "execution_count": 1,
   "id": "b0993965-25c0-4f10-84a9-f980bde9117f",
   "metadata": {},
   "outputs": [],
   "source": [
    "import numpy as np\n",
    "from sklearn.linear_model import LogisticRegression\n",
    "from sklearn.svm import SVC\n",
    "from sklearn.ensemble import RandomForestClassifier\n",
    "from sklearn.datasets import load_digits\n",
    "\n",
    "digits = load_digits()"
   ]
  },
  {
   "cell_type": "code",
   "execution_count": 2,
   "id": "f705b9ba-c947-4a61-bbc4-626357e06b82",
   "metadata": {},
   "outputs": [],
   "source": [
    "from sklearn.model_selection import train_test_split\n",
    "X_train, X_test, y_train, y_test = train_test_split(digits.data,digits.target,test_size=0.3)"
   ]
  },
  {
   "cell_type": "code",
   "execution_count": 3,
   "id": "72a45288-fe67-4c7d-b808-d7d053229962",
   "metadata": {},
   "outputs": [
    {
     "name": "stderr",
     "output_type": "stream",
     "text": [
      "C:\\Users\\ACER\\.conda\\envs\\condaenv\\Lib\\site-packages\\sklearn\\linear_model\\_logistic.py:458: ConvergenceWarning: lbfgs failed to converge (status=1):\n",
      "STOP: TOTAL NO. of ITERATIONS REACHED LIMIT.\n",
      "\n",
      "Increase the number of iterations (max_iter) or scale the data as shown in:\n",
      "    https://scikit-learn.org/stable/modules/preprocessing.html\n",
      "Please also refer to the documentation for alternative solver options:\n",
      "    https://scikit-learn.org/stable/modules/linear_model.html#logistic-regression\n",
      "  n_iter_i = _check_optimize_result(\n"
     ]
    },
    {
     "data": {
      "text/plain": [
       "0.9481481481481482"
      ]
     },
     "execution_count": 3,
     "metadata": {},
     "output_type": "execute_result"
    }
   ],
   "source": [
    "lr = LogisticRegression()\n",
    "lr.fit(X_train,y_train)\n",
    "lr.score(X_test,y_test)"
   ]
  },
  {
   "cell_type": "code",
   "execution_count": 4,
   "id": "a3fe646f-2e20-40de-8a07-e26b26a6a991",
   "metadata": {},
   "outputs": [
    {
     "data": {
      "text/plain": [
       "0.9851851851851852"
      ]
     },
     "execution_count": 4,
     "metadata": {},
     "output_type": "execute_result"
    }
   ],
   "source": [
    "svm = SVC()\n",
    "svm.fit(X_train,y_train)\n",
    "svm.score(X_test,y_test)"
   ]
  },
  {
   "cell_type": "code",
   "execution_count": 8,
   "id": "8e11c7bd-97a2-4107-a9a1-5d76800367c1",
   "metadata": {},
   "outputs": [
    {
     "data": {
      "text/plain": [
       "0.9777777777777777"
      ]
     },
     "execution_count": 8,
     "metadata": {},
     "output_type": "execute_result"
    }
   ],
   "source": [
    "rf = RandomForestClassifier(n_estimators=40)\n",
    "rf.fit(X_train,y_train)\n",
    "rf.score(X_test,y_test)"
   ]
  },
  {
   "cell_type": "markdown",
   "id": "cdeedb35-8c38-4ea4-bfee-c0ea0906395f",
   "metadata": {},
   "source": [
    "The issue: If I run the second cell (train_test_split) again, the results of the preceeding models will change each time.\n",
    "Not a good way to measure which model is the best for a use case."
   ]
  },
  {
   "cell_type": "code",
   "execution_count": 9,
   "id": "39c11b1e-bc3e-4a35-859a-e7c7c0364406",
   "metadata": {},
   "outputs": [
    {
     "data": {
      "text/plain": [
       "KFold(n_splits=3, random_state=None, shuffle=False)"
      ]
     },
     "execution_count": 9,
     "metadata": {},
     "output_type": "execute_result"
    }
   ],
   "source": [
    "from sklearn.model_selection import KFold\n",
    "kf = KFold(n_splits=3) # stating how many folds I want to be created.Here,3.Conventionally,10.\n",
    "kf"
   ]
  },
  {
   "cell_type": "code",
   "execution_count": 11,
   "id": "e5e2ab8f-b294-4954-93ea-66b23bddf60a",
   "metadata": {},
   "outputs": [
    {
     "name": "stdout",
     "output_type": "stream",
     "text": [
      "[3 4 5 6 7 8] [0 1 2]\n",
      "[0 1 2 6 7 8] [3 4 5]\n",
      "[0 1 2 3 4 5] [6 7 8]\n"
     ]
    }
   ],
   "source": [
    "# kf.split will return an iterator, the iterator will return train_index and test_index for each of the iterations\n",
    "for train_index, test_index in kf.split([1,2,3,4,5,6,7,8,9]):\n",
    "    print(train_index, test_index)\n",
    "#Explanation for output below:\n",
    "# First fold, [0,1,2] are the tests. Next fold, [3,4,5] are the tests."
   ]
  },
  {
   "cell_type": "code",
   "execution_count": 16,
   "id": "e9ef8850-0076-4ea9-a4eb-50fecd0f8c18",
   "metadata": {},
   "outputs": [
    {
     "data": {
      "text/plain": [
       "0.9851851851851852"
      ]
     },
     "execution_count": 16,
     "metadata": {},
     "output_type": "execute_result"
    }
   ],
   "source": [
    "# just an example of modularization of the above cells 3 to 5\n",
    "def get_score(model,X_train,X_test,y_train,y_test):\n",
    "    model.fit(X_train,y_train)\n",
    "    return model.score(X_test,y_test)\n",
    "get_score(SVC(),X_train,X_test,y_train,y_test)"
   ]
  },
  {
   "cell_type": "code",
   "execution_count": 17,
   "id": "8f794ff2-4d9e-46e9-ae04-93e88b2889bb",
   "metadata": {},
   "outputs": [],
   "source": [
    "# StratifiedKFold is better than KFold because it uniformizes each fold group\n",
    "from sklearn.model_selection import StratifiedKFold\n",
    "folds = StratifiedKFold(n_splits=3)"
   ]
  },
  {
   "cell_type": "code",
   "execution_count": 38,
   "id": "79f94501-da98-424c-83e3-52b41d37b8fc",
   "metadata": {},
   "outputs": [
    {
     "name": "stdout",
     "output_type": "stream",
     "text": [
      "[   0    1    2 ... 1207 1215 1221]\n",
      "[1185 1190 1192 1194 1195 1196 1197 1201 1203 1204 1205 1206 1208 1209\n",
      " 1210 1211 1212 1213 1214 1216 1217 1218 1219 1220 1222 1223 1224 1225\n",
      " 1226 1227 1228 1229 1230 1231 1232 1233 1234 1235 1236 1237 1238 1239\n",
      " 1240 1241 1242 1243 1244 1245 1246 1247 1248 1249 1250 1251 1252 1253\n",
      " 1254 1255 1256 1257 1258 1259 1260 1261 1262 1263 1264 1265 1266 1267\n",
      " 1268 1269 1270 1271 1272 1273 1274 1275 1276 1277 1278 1279 1280 1281\n",
      " 1282 1283 1284 1285 1286 1287 1288 1289 1290 1291 1292 1293 1294 1295\n",
      " 1296 1297 1298 1299 1300 1301 1302 1303 1304 1305 1306 1307 1308 1309\n",
      " 1310 1311 1312 1313 1314 1315 1316 1317 1318 1319 1320 1321 1322 1323\n",
      " 1324 1325 1326 1327 1328 1329 1330 1331 1332 1333 1334 1335 1336 1337\n",
      " 1338 1339 1340 1341 1342 1343 1344 1345 1346 1347 1348 1349 1350 1351\n",
      " 1352 1353 1354 1355 1356 1357 1358 1359 1360 1361 1362 1363 1364 1365\n",
      " 1366 1367 1368 1369 1370 1371 1372 1373 1374 1375 1376 1377 1378 1379\n",
      " 1380 1381 1382 1383 1384 1385 1386 1387 1388 1389 1390 1391 1392 1393\n",
      " 1394 1395 1396 1397 1398 1399 1400 1401 1402 1403 1404 1405 1406 1407\n",
      " 1408 1409 1410 1411 1412 1413 1414 1415 1416 1417 1418 1419 1420 1421\n",
      " 1422 1423 1424 1425 1426 1427 1428 1429 1430 1431 1432 1433 1434 1435\n",
      " 1436 1437 1438 1439 1440 1441 1442 1443 1444 1445 1446 1447 1448 1449\n",
      " 1450 1451 1452 1453 1454 1455 1456 1457 1458 1459 1460 1461 1462 1463\n",
      " 1464 1465 1466 1467 1468 1469 1470 1471 1472 1473 1474 1475 1476 1477\n",
      " 1478 1479 1480 1481 1482 1483 1484 1485 1486 1487 1488 1489 1490 1491\n",
      " 1492 1493 1494 1495 1496 1497 1498 1499 1500 1501 1502 1503 1504 1505\n",
      " 1506 1507 1508 1509 1510 1511 1512 1513 1514 1515 1516 1517 1518 1519\n",
      " 1520 1521 1522 1523 1524 1525 1526 1527 1528 1529 1530 1531 1532 1533\n",
      " 1534 1535 1536 1537 1538 1539 1540 1541 1542 1543 1544 1545 1546 1547\n",
      " 1548 1549 1550 1551 1552 1553 1554 1555 1556 1557 1558 1559 1560 1561\n",
      " 1562 1563 1564 1565 1566 1567 1568 1569 1570 1571 1572 1573 1574 1575\n",
      " 1576 1577 1578 1579 1580 1581 1582 1583 1584 1585 1586 1587 1588 1589\n",
      " 1590 1591 1592 1593 1594 1595 1596 1597 1598 1599 1600 1601 1602 1603\n",
      " 1604 1605 1606 1607 1608 1609 1610 1611 1612 1613 1614 1615 1616 1617\n",
      " 1618 1619 1620 1621 1622 1623 1624 1625 1626 1627 1628 1629 1630 1631\n",
      " 1632 1633 1634 1635 1636 1637 1638 1639 1640 1641 1642 1643 1644 1645\n",
      " 1646 1647 1648 1649 1650 1651 1652 1653 1654 1655 1656 1657 1658 1659\n",
      " 1660 1661 1662 1663 1664 1665 1666 1667 1668 1669 1670 1671 1672 1673\n",
      " 1674 1675 1676 1677 1678 1679 1680 1681 1682 1683 1684 1685 1686 1687\n",
      " 1688 1689 1690 1691 1692 1693 1694 1695 1696 1697 1698 1699 1700 1701\n",
      " 1702 1703 1704 1705 1706 1707 1708 1709 1710 1711 1712 1713 1714 1715\n",
      " 1716 1717 1718 1719 1720 1721 1722 1723 1724 1725 1726 1727 1728 1729\n",
      " 1730 1731 1732 1733 1734 1735 1736 1737 1738 1739 1740 1741 1742 1743\n",
      " 1744 1745 1746 1747 1748 1749 1750 1751 1752 1753 1754 1755 1756 1757\n",
      " 1758 1759 1760 1761 1762 1763 1764 1765 1766 1767 1768 1769 1770 1771\n",
      " 1772 1773 1774 1775 1776 1777 1778 1779 1780 1781 1782 1783 1784 1785\n",
      " 1786 1787 1788 1789 1790 1791 1792 1793 1794 1795 1796]\n",
      "[0.9248747913188647, 0.9398998330550918, 0.9232053422370617]\n",
      "[0.9649415692821369, 0.9799666110183639, 0.9649415692821369]\n",
      "[0.9365609348914858, 0.9616026711185309, 0.9298831385642737]\n"
     ]
    }
   ],
   "source": [
    "scores_le = []\n",
    "scores_svm = []\n",
    "scores_rf = []\n",
    "\n",
    "for train_index, test_index in folds.split(digits.data,digits.target):\n",
    "    X_train, X_test, y_train, y_test = digits.data[train_index], digits.data[test_index], digits.target[train_index], digits.target[test_index]\n",
    "    scores_le.append(get_score(LogisticRegression(max_iter=10000),X_train, X_test, y_train, y_test))\n",
    "    scores_svm.append(get_score(SVC(),X_train, X_test, y_train, y_test))\n",
    "    scores_rf.append(get_score(RandomForestClassifier(n_estimators=40),X_train, X_test, y_train, y_test))\n",
    "\n",
    "print(train_index)\n",
    "print(test_index)\n",
    "    \n",
    "print(scores_le)\n",
    "print(scores_svm)\n",
    "print(scores_rf)"
   ]
  },
  {
   "cell_type": "code",
   "execution_count": 34,
   "id": "f890463d-300a-4b41-8284-4c98dc00404c",
   "metadata": {},
   "outputs": [
    {
     "data": {
      "text/plain": [
       "1797"
      ]
     },
     "execution_count": 34,
     "metadata": {},
     "output_type": "execute_result"
    }
   ],
   "source": [
    "len(digits.data)"
   ]
  },
  {
   "cell_type": "code",
   "execution_count": 35,
   "id": "05534a94-f1c4-4f20-aeab-f6edf7b0f87b",
   "metadata": {},
   "outputs": [
    {
     "data": {
      "text/plain": [
       "1797"
      ]
     },
     "execution_count": 35,
     "metadata": {},
     "output_type": "execute_result"
    }
   ],
   "source": [
    "len(digits.target)"
   ]
  },
  {
   "cell_type": "code",
   "execution_count": 42,
   "id": "ec08aa23-9fa2-43f0-ade2-b16407ffd13b",
   "metadata": {},
   "outputs": [
    {
     "name": "stderr",
     "output_type": "stream",
     "text": [
      "C:\\Users\\ACER\\.conda\\envs\\condaenv\\Lib\\site-packages\\sklearn\\linear_model\\_logistic.py:458: ConvergenceWarning: lbfgs failed to converge (status=1):\n",
      "STOP: TOTAL NO. of ITERATIONS REACHED LIMIT.\n",
      "\n",
      "Increase the number of iterations (max_iter) or scale the data as shown in:\n",
      "    https://scikit-learn.org/stable/modules/preprocessing.html\n",
      "Please also refer to the documentation for alternative solver options:\n",
      "    https://scikit-learn.org/stable/modules/linear_model.html#logistic-regression\n",
      "  n_iter_i = _check_optimize_result(\n",
      "C:\\Users\\ACER\\.conda\\envs\\condaenv\\Lib\\site-packages\\sklearn\\linear_model\\_logistic.py:458: ConvergenceWarning: lbfgs failed to converge (status=1):\n",
      "STOP: TOTAL NO. of ITERATIONS REACHED LIMIT.\n",
      "\n",
      "Increase the number of iterations (max_iter) or scale the data as shown in:\n",
      "    https://scikit-learn.org/stable/modules/preprocessing.html\n",
      "Please also refer to the documentation for alternative solver options:\n",
      "    https://scikit-learn.org/stable/modules/linear_model.html#logistic-regression\n",
      "  n_iter_i = _check_optimize_result(\n",
      "C:\\Users\\ACER\\.conda\\envs\\condaenv\\Lib\\site-packages\\sklearn\\linear_model\\_logistic.py:458: ConvergenceWarning: lbfgs failed to converge (status=1):\n",
      "STOP: TOTAL NO. of ITERATIONS REACHED LIMIT.\n",
      "\n",
      "Increase the number of iterations (max_iter) or scale the data as shown in:\n",
      "    https://scikit-learn.org/stable/modules/preprocessing.html\n",
      "Please also refer to the documentation for alternative solver options:\n",
      "    https://scikit-learn.org/stable/modules/linear_model.html#logistic-regression\n",
      "  n_iter_i = _check_optimize_result(\n"
     ]
    },
    {
     "data": {
      "text/plain": [
       "array([0.92153589, 0.94156928, 0.91652755])"
      ]
     },
     "execution_count": 42,
     "metadata": {},
     "output_type": "execute_result"
    }
   ],
   "source": [
    "from sklearn.model_selection import cross_val_score\n",
    "cross_val_score(LogisticRegression(), digits.data, digits.target, cv=3)"
   ]
  },
  {
   "cell_type": "code",
   "execution_count": 44,
   "id": "22184512-10a2-4147-a395-077f78fc6b43",
   "metadata": {},
   "outputs": [
    {
     "data": {
      "text/plain": [
       "array([0.96494157, 0.97996661, 0.96494157])"
      ]
     },
     "execution_count": 44,
     "metadata": {},
     "output_type": "execute_result"
    }
   ],
   "source": [
    "cross_val_score(SVC(), digits.data, digits.target, cv=3)"
   ]
  },
  {
   "cell_type": "code",
   "execution_count": 47,
   "id": "7622b92d-1258-4991-9b48-4311908a44e9",
   "metadata": {},
   "outputs": [
    {
     "data": {
      "text/plain": [
       "array([0.93322204, 0.94824708, 0.91318865])"
      ]
     },
     "execution_count": 47,
     "metadata": {},
     "output_type": "execute_result"
    }
   ],
   "source": [
    "cross_val_score(RandomForestClassifier(n_estimators=40), digits.data, digits.target, cv=3)"
   ]
  },
  {
   "cell_type": "code",
   "execution_count": 49,
   "id": "9c6d8f4f-3648-4093-b964-2debde62098b",
   "metadata": {},
   "outputs": [
    {
     "data": {
      "text/plain": [
       "array([0.90984975, 0.93489149, 0.90317195])"
      ]
     },
     "execution_count": 49,
     "metadata": {},
     "output_type": "execute_result"
    }
   ],
   "source": [
    "# cross validation technique used to not just compare different models performance,but hyperparameter tuning as seen here, changing number of trees\n",
    "cross_val_score(RandomForestClassifier(n_estimators=15), digits.data, digits.target, cv=3)"
   ]
  },
  {
   "cell_type": "code",
   "execution_count": 50,
   "id": "d7e9d5cb-3af9-4444-8edd-bfbb76f0ea42",
   "metadata": {},
   "outputs": [
    {
     "data": {
      "text/plain": [
       "array([0.94323873, 0.94657763, 0.92153589])"
      ]
     },
     "execution_count": 50,
     "metadata": {},
     "output_type": "execute_result"
    }
   ],
   "source": [
    "# cross validation technique used to not just compare different models performance,but hyperparameter tuning as seen here\n",
    "cross_val_score(RandomForestClassifier(n_estimators=60), digits.data, digits.target, cv=3)"
   ]
  },
  {
   "cell_type": "code",
   "execution_count": null,
   "id": "b6d663e3-30b2-48ed-9d66-64477088760c",
   "metadata": {},
   "outputs": [],
   "source": []
  }
 ],
 "metadata": {
  "kernelspec": {
   "display_name": "condaenv",
   "language": "python",
   "name": "condaenv"
  },
  "language_info": {
   "codemirror_mode": {
    "name": "ipython",
    "version": 3
   },
   "file_extension": ".py",
   "mimetype": "text/x-python",
   "name": "python",
   "nbconvert_exporter": "python",
   "pygments_lexer": "ipython3",
   "version": "3.11.7"
  }
 },
 "nbformat": 4,
 "nbformat_minor": 5
}
